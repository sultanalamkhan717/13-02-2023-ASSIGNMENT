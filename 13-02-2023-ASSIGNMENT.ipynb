{
 "cells": [
  {
   "cell_type": "markdown",
   "id": "32c19206-ceb2-49be-aaf4-b108718f9a81",
   "metadata": {},
   "source": [
    "#ANSWER-1"
   ]
  },
  {
   "cell_type": "raw",
   "id": "98dc8b4d-2718-47ea-8e3a-b37c829f88c3",
   "metadata": {},
   "source": [
    "ometimes, you may encounter situations where the built-in exception classes in a programming .\n",
    "o create a custom exception, you need to create a class that extends the built-in Exception class in your programming language.\n",
    "In summary, using the Exception class when creating a custom exception allows you to take advantage of the standard exception-handling mechanisms in your programming\n",
    "language while providing a consistent and predictable way to handle errors in your application."
   ]
  },
  {
   "cell_type": "markdown",
   "id": "da5f66c8-3d49-4d55-9b77-e0b1c6d3c0a5",
   "metadata": {},
   "source": [
    "#ANSWER-2"
   ]
  },
  {
   "cell_type": "code",
   "execution_count": 1,
   "id": "5277cb97-cbf7-4c8e-85f3-b0b35aae3abe",
   "metadata": {},
   "outputs": [
    {
     "name": "stdout",
     "output_type": "stream",
     "text": [
      "ArithmeticError\n",
      "AssertionError\n",
      "AttributeError\n",
      "BaseException\n",
      "BlockingIOError\n",
      "BrokenPipeError\n",
      "BufferError\n",
      "BytesWarning\n",
      "ChildProcessError\n",
      "ConnectionAbortedError\n",
      "ConnectionError\n",
      "ConnectionRefusedError\n",
      "ConnectionResetError\n",
      "DeprecationWarning\n",
      "EOFError\n"
     ]
    },
    {
     "ename": "TypeError",
     "evalue": "issubclass() arg 1 must be a class",
     "output_type": "error",
     "traceback": [
      "\u001b[0;31m---------------------------------------------------------------------------\u001b[0m",
      "\u001b[0;31mTypeError\u001b[0m                                 Traceback (most recent call last)",
      "Cell \u001b[0;32mIn[1], line 2\u001b[0m\n\u001b[1;32m      1\u001b[0m \u001b[38;5;28;01mfor\u001b[39;00m i \u001b[38;5;129;01min\u001b[39;00m \u001b[38;5;28mdir\u001b[39m(__builtins__):\n\u001b[0;32m----> 2\u001b[0m     \u001b[38;5;28;01mif\u001b[39;00m \u001b[38;5;28;43missubclass\u001b[39;49m\u001b[43m(\u001b[49m\u001b[38;5;28;43meval\u001b[39;49m\u001b[43m(\u001b[49m\u001b[38;5;124;43mf\u001b[39;49m\u001b[38;5;124;43m'\u001b[39;49m\u001b[38;5;124;43m__builtins__.\u001b[39;49m\u001b[38;5;132;43;01m{\u001b[39;49;00m\u001b[43mi\u001b[49m\u001b[38;5;132;43;01m}\u001b[39;49;00m\u001b[38;5;124;43m'\u001b[39;49m\u001b[43m)\u001b[49m\u001b[43m,\u001b[49m\u001b[43m \u001b[49m\u001b[38;5;167;43;01mBaseException\u001b[39;49;00m\u001b[43m)\u001b[49m:\n\u001b[1;32m      3\u001b[0m         \u001b[38;5;28mprint\u001b[39m(i)\n",
      "\u001b[0;31mTypeError\u001b[0m: issubclass() arg 1 must be a class"
     ]
    }
   ],
   "source": [
    "for i in dir(__builtins__):\n",
    "    if issubclass(eval(f'__builtins__.{i}'), BaseException):\n",
    "        print(i)\n"
   ]
  },
  {
   "cell_type": "markdown",
   "id": "e378fe7c-ca04-44dd-8aec-2ffa6931b4f1",
   "metadata": {},
   "source": [
    "#ANSWER-3"
   ]
  },
  {
   "cell_type": "markdown",
   "id": "76fbe99c-bdd4-4ea5-817a-e8c01fbdb5a6",
   "metadata": {},
   "source": [
    "The ArithmeticError class is a built-in exception class in Python that serves as a base class for exceptions that occur during arithmetic operations.\n",
    "The class hierarchy for ArithmeticError includes subclasses such as ZeroDivisionError, OverflowError, and FloatingPointError."
   ]
  },
  {
   "cell_type": "code",
   "execution_count": null,
   "id": "47d62b10-181d-4be6-9662-48e540a46646",
   "metadata": {},
   "outputs": [
    {
     "ename": "SyntaxError",
     "evalue": "invalid syntax (4085760756.py, line 3)",
     "output_type": "error",
     "traceback": [
      "\u001b[0;36m  Cell \u001b[0;32mIn[3], line 3\u001b[0;36m\u001b[0m\n\u001b[0;31m    >>> x = 10\u001b[0m\n\u001b[0m    ^\u001b[0m\n\u001b[0;31mSyntaxError\u001b[0m\u001b[0;31m:\u001b[0m invalid syntax\n"
     ]
    }
   ],
   "source": [
    "1#ZeroDivisionError\n",
    "\n",
    ">>> x = 10\n",
    ">>> y = 0\n",
    ">>> result = x / y\n",
    "Traceback (most recent call last):\n",
    "  File \"<stdin>\", line 1, in <module>\n",
    "ZeroDivisionError: division by zero\n"
   ]
  },
  {
   "cell_type": "code",
   "execution_count": 4,
   "id": "80978236-b3aa-48a9-9ec0-7bfc6a5f38c7",
   "metadata": {},
   "outputs": [
    {
     "ename": "SyntaxError",
     "evalue": "invalid syntax (337063206.py, line 4)",
     "output_type": "error",
     "traceback": [
      "\u001b[0;36m  Cell \u001b[0;32mIn[4], line 4\u001b[0;36m\u001b[0m\n\u001b[0;31m    >>> x = 2**1000\u001b[0m\n\u001b[0m    ^\u001b[0m\n\u001b[0;31mSyntaxError\u001b[0m\u001b[0;31m:\u001b[0m invalid syntax\n"
     ]
    }
   ],
   "source": [
    "#2 OverflowError\n",
    "\n",
    "\n",
    ">>> x = 2**1000\n",
    ">>> y = 2**1000\n",
    ">>> result = x * y\n",
    "Traceback (most recent call last):\n",
    "  File \"<stdin>\", line 1, in <module>\n",
    "OverflowError: integer multiplication result too large for a float\n"
   ]
  },
  {
   "cell_type": "markdown",
   "id": "3cae5d38-8aca-4d60-ba0d-c279759deae9",
   "metadata": {},
   "source": [
    "#ANSWER-4"
   ]
  },
  {
   "cell_type": "markdown",
   "id": "f44c8a14-452b-4f93-9248-a5da626c69b3",
   "metadata": {},
   "source": [
    "The LookupError class is a built-in exception class in Python that serves as a base class for exceptions that occur when an index or key is not found in a collection. \n",
    "The class hierarchy for LookupError includes subclasses such as IndexError, KeyError, and AttributeError."
   ]
  },
  {
   "cell_type": "markdown",
   "id": "3b8eee7a-365d-4a40-97e3-46c816f706d2",
   "metadata": {},
   "source": [
    "KeyError"
   ]
  },
  {
   "cell_type": "code",
   "execution_count": 5,
   "id": "062782ba-3a8b-42f6-854e-b309269f50df",
   "metadata": {},
   "outputs": [
    {
     "ename": "SyntaxError",
     "evalue": "invalid syntax (1194866615.py, line 3)",
     "output_type": "error",
     "traceback": [
      "\u001b[0;36m  Cell \u001b[0;32mIn[6], line 3\u001b[0;36m\u001b[0m\n\u001b[0;31m    Traceback (\"most recent call last\"):\u001b[0m\n\u001b[0m                                       ^\u001b[0m\n\u001b[0;31mSyntaxError\u001b[0m\u001b[0;31m:\u001b[0m invalid syntax\n"
     ]
    }
   ],
   "source": [
    ">>> my_dict = {'apple': 1, 'banana': 2, 'orange': 3}\n",
    ">>> my_dict['grape']\n",
    "Traceback (most recent call last):\n",
    "  File \"<stdin>\", line 1, in <module>\n",
    "KeyError: 'grape'\n"
   ]
  },
  {
   "cell_type": "code",
   "execution_count": 7,
   "id": "42d330ce-6eff-4da8-8409-489bfddd0124",
   "metadata": {},
   "outputs": [
    {
     "data": {
      "text/plain": [
       "IndexError"
      ]
     },
     "execution_count": 7,
     "metadata": {},
     "output_type": "execute_result"
    }
   ],
   "source": [
    "IndexError"
   ]
  },
  {
   "cell_type": "code",
   "execution_count": 8,
   "id": "4534ca1e-48d3-4ebf-b13d-419948dcfc39",
   "metadata": {},
   "outputs": [
    {
     "ename": "SyntaxError",
     "evalue": "invalid syntax. Perhaps you forgot a comma? (665091327.py, line 3)",
     "output_type": "error",
     "traceback": [
      "\u001b[0;36m  Cell \u001b[0;32mIn[8], line 3\u001b[0;36m\u001b[0m\n\u001b[0;31m    Traceback (most recent call last):\u001b[0m\n\u001b[0m               ^\u001b[0m\n\u001b[0;31mSyntaxError\u001b[0m\u001b[0;31m:\u001b[0m invalid syntax. Perhaps you forgot a comma?\n"
     ]
    }
   ],
   "source": [
    ">>> my_list = [1, 2, 3]\n",
    ">>> my_list[3]\n",
    "Traceback (most recent call last):\n",
    "  File \"<stdin>\", line 1, in <module>\n",
    "IndexError: list index out of range\n"
   ]
  },
  {
   "cell_type": "markdown",
   "id": "9cf3dc91-4f45-420a-9d14-812db6af8d7e",
   "metadata": {},
   "source": [
    "#ANSWER-5"
   ]
  },
  {
   "cell_type": "markdown",
   "id": "b60b335d-23e6-4ab1-90b6-c8dc9c469e25",
   "metadata": {},
   "source": [
    "ImportError is a built-in exception class in Python that is raised when an imported module or its attributes cannot be found or accessed.\n",
    "This exception is typically raised when there is an issue with importing a module, such as when the module is misspelled or is not installed correctly."
   ]
  },
  {
   "cell_type": "code",
   "execution_count": 9,
   "id": "cecc7840-3d99-4dc8-ac78-f69a1ca808c6",
   "metadata": {},
   "outputs": [
    {
     "ename": "ValueError",
     "evalue": "math domain error",
     "output_type": "error",
     "traceback": [
      "\u001b[0;31m---------------------------------------------------------------------------\u001b[0m",
      "\u001b[0;31mValueError\u001b[0m                                Traceback (most recent call last)",
      "Cell \u001b[0;32mIn[9], line 3\u001b[0m\n\u001b[1;32m      1\u001b[0m \u001b[38;5;28;01mimport\u001b[39;00m \u001b[38;5;21;01mmath\u001b[39;00m\n\u001b[0;32m----> 3\u001b[0m result \u001b[38;5;241m=\u001b[39m \u001b[43mmath\u001b[49m\u001b[38;5;241;43m.\u001b[39;49m\u001b[43msqrt\u001b[49m\u001b[43m(\u001b[49m\u001b[38;5;241;43m-\u001b[39;49m\u001b[38;5;241;43m1\u001b[39;49m\u001b[43m)\u001b[49m\n",
      "\u001b[0;31mValueError\u001b[0m: math domain error"
     ]
    }
   ],
   "source": [
    "import math\n",
    "\n",
    "result = math.sqrt(-1)\n"
   ]
  },
  {
   "cell_type": "markdown",
   "id": "43c06207-a285-48b2-b20b-3381ff09fdf6",
   "metadata": {},
   "source": [
    "#ANSWER-6"
   ]
  },
  {
   "cell_type": "markdown",
   "id": "9b9966a4-42bb-4a21-bbb7-9ca09da06f91",
   "metadata": {},
   "source": [
    "Use specific exception classes: Rather than catching generic exceptions such as Exception or BaseException,\n",
    "use specific exception classes that indicate the specific error condition you are trying to handle. \n",
    "This helps to ensure that you are only catching the exceptions you expect, and that you are not catching unexpected errors that may indicate a more serious issue.\n",
    "\n",
    "Keep the try block small: Keep the code inside the try block as small as possible, only including the code that may raise an exception.\n",
    "This helps to ensure that the exception is caught as soon as possible and that the program can recover from the error quickly.\n",
    "\n",
    "Use finally to clean up resources: Use the finally block to perform any necessary cleanup tasks, such as closing file handles or database connections.\n",
    "The finally block is guaranteed to be executed whether or not an exception is raised, so it's a good place to put any code that must always run.\n",
    "\n",
    "Don't ignore exceptions: It's never a good idea to catch an exception and do nothing with it. \n",
    "At the very least, log the exception so that you can investigate the issue later.\n",
    "Ignoring exceptions can make it difficult to diagnose problems in your code, and can also lead to silent failures that may go unnoticed.\n",
    "\n",
    "Use context managers for resource management: Use context managers, such as the with statement,\n",
    "to ensure that resources are properly managed and cleaned up even in the event of an exception.\n",
    "For example, when working with files, use the with statement to automatically close the file handle when the block of code is finished:\n",
    "    \n",
    "Raise exceptions when appropriate: When writing your own functions or modules, raise exceptions when appropriate to indicate error conditions or unexpected behavior.\n",
    "This makes it easier for other developers to understand how to use your code and handle errors correctly.\n",
    "\n",
    "Handle exceptions at the appropriate level: Handle exceptions at the appropriate level of your code.\n",
    "For example, if an exception occurs while reading data from a file, handle the exception in the function that is reading the data,\n",
    "rather than passing the exception up the call stack to a higher-level function that may not be able to handle the exception properly.\n",
    "\n",
    "Test exception handling code: Write test cases that exercise the exception handling code in your program, \n",
    "to ensure that it behaves correctly in a variety of error conditions. This can help to catch bugs and ensure that your code is robust and reliable."
   ]
  },
  {
   "cell_type": "code",
   "execution_count": null,
   "id": "d2cee935-6a0e-4da2-af8d-b040026d9932",
   "metadata": {},
   "outputs": [],
   "source": []
  }
 ],
 "metadata": {
  "kernelspec": {
   "display_name": "Python 3 (ipykernel)",
   "language": "python",
   "name": "python3"
  },
  "language_info": {
   "codemirror_mode": {
    "name": "ipython",
    "version": 3
   },
   "file_extension": ".py",
   "mimetype": "text/x-python",
   "name": "python",
   "nbconvert_exporter": "python",
   "pygments_lexer": "ipython3",
   "version": "3.10.8"
  }
 },
 "nbformat": 4,
 "nbformat_minor": 5
}
